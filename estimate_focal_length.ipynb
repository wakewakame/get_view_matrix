{
  "nbformat": 4,
  "nbformat_minor": 0,
  "metadata": {
    "colab": {
      "name": "estimate_focus_length.ipynb",
      "provenance": [],
      "collapsed_sections": [],
      "authorship_tag": "ABX9TyM4VDgk/q5Jv9aluO2nNRMB",
      "include_colab_link": true
    },
    "kernelspec": {
      "name": "python3",
      "display_name": "Python 3"
    },
    "language_info": {
      "name": "python"
    }
  },
  "cells": [
    {
      "cell_type": "markdown",
      "metadata": {
        "id": "view-in-github",
        "colab_type": "text"
      },
      "source": [
        "<a href=\"https://colab.research.google.com/github/wakewakame/get_view_matrix/blob/master/estimate_focal_length.ipynb\" target=\"_parent\"><img src=\"https://colab.research.google.com/assets/colab-badge.svg\" alt=\"Open In Colab\"/></a>"
      ]
    },
    {
      "cell_type": "markdown",
      "metadata": {
        "id": "kGD_Yw09lUa7"
      },
      "source": [
        "![image.png](data:image/png;base64,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)"
      ]
    },
    {
      "cell_type": "code",
      "metadata": {
        "id": "wnSgc0xgssi4",
        "colab": {
          "base_uri": "https://localhost:8080/",
          "height": 317
        },
        "outputId": "4b658bbf-a20c-4cec-b646-26e81fe758d2"
      },
      "source": [
        "import sympy as sp\n",
        "from IPython.display import display\n",
        "\n",
        "# 変数宣言\n",
        "p1 = sp.Matrix([-1, -1, -1])\n",
        "p2 = sp.Matrix([+1, -1, -1])\n",
        "p3 = sp.Matrix([+1, +1, -1])\n",
        "p4 = sp.Matrix([+1, +1, +1])\n",
        "p5 = sp.Matrix([-1, +1, +1])\n",
        "p6 = sp.Matrix([-1, -1, +1])\n",
        "p1x = sp.Symbol(\"p_1_x\")\n",
        "p1y = sp.Symbol(\"p_1_y\")\n",
        "p2x = sp.Symbol(\"p_2_x\")\n",
        "p2y = sp.Symbol(\"p_2_y\")\n",
        "p3x = sp.Symbol(\"p_3_x\")\n",
        "p3y = sp.Symbol(\"p_3_y\")\n",
        "p4x = sp.Symbol(\"p_4_x\")\n",
        "p4y = sp.Symbol(\"p_4_y\")\n",
        "p5x = sp.Symbol(\"p_5_x\")\n",
        "p5y = sp.Symbol(\"p_5_y\")\n",
        "p6x = sp.Symbol(\"p_6_x\")\n",
        "p6y = sp.Symbol(\"p_6_y\")\n",
        "f = sp.Symbol(\"f\")\n",
        "\n",
        "# スクリーン上に投影されるマーカーの各頂点へのベクトル\n",
        "p1 = sp.Matrix([[p1x],[p1y],[f]])\n",
        "p2 = sp.Matrix([[p2x],[p2y],[f]])\n",
        "p3 = sp.Matrix([[p3x],[p3y],[f]])\n",
        "p4 = sp.Matrix([[p4x],[p4y],[f]])\n",
        "p5 = sp.Matrix([[p5x],[p5y],[f]])\n",
        "p6 = sp.Matrix([[p6x],[p6y],[f]])\n",
        "\n",
        "# スクリーン上に投影されるマーカーの各辺のベクトル\n",
        "l12 = p2 - p1\n",
        "l23 = p3 - p2\n",
        "l34 = p4 - p3\n",
        "l45 = p5 - p4\n",
        "l56 = p6 - p5\n",
        "l61 = p1 - p6\n",
        "\n",
        "# カメラ中央からマーカーの各辺を通る面の法線ベクトル\n",
        "m12 = l12.cross(p1)\n",
        "m23 = l23.cross(p2)\n",
        "m34 = l34.cross(p3)\n",
        "m45 = l45.cross(p4)\n",
        "m56 = l56.cross(p5)\n",
        "m61 = l61.cross(p6)\n",
        "\n",
        "# xyz軸の計算\n",
        "x = m12.cross(m45)\n",
        "y = m23.cross(m56)\n",
        "z = m34.cross(m61)\n",
        "\n",
        "# 式の簡素化\n",
        "x = sp.simplify(x).subs([\n",
        "    (sp.simplify((p1x-p2x)*(p4x*(p4y-p5y)-p4y*(p4x-p5x))-(p4x-p5x)*(p1x*(p1y-p2y)-p1y*(p1x-p2x))), sp.Symbol(\"Ax\")),\n",
        "    (sp.simplify((p1y-p2y)*(p4x*(p4y-p5y)-p4y*(p4x-p5x))-(p4y-p5y)*(p1x*(p1y-p2y)-p1y*(p1x-p2x))), sp.Symbol(\"Bx\")),\n",
        "    (sp.simplify((p1x-p2x)*(p4y-p5y)-(p1y-p2y)*(p4x-p5x)), sp.Symbol(\"Cx\")),\n",
        "])\n",
        "y = sp.simplify(y).subs([\n",
        "    (sp.simplify((p2x-p3x)*(p5x*(p5y-p6y)-p5y*(p5x-p6x))-(p5x-p6x)*(p2x*(p2y-p3y)-p2y*(p2x-p3x))), sp.Symbol(\"Ay\")),\n",
        "    (sp.simplify((p2y-p3y)*(p5x*(p5y-p6y)-p5y*(p5x-p6x))-(p5y-p6y)*(p2x*(p2y-p3y)-p2y*(p2x-p3x))), sp.Symbol(\"By\")),\n",
        "    (sp.simplify((p2x-p3x)*(p5y-p6y)-(p2y-p3y)*(p5x-p6x)), sp.Symbol(\"Cy\")),\n",
        "])\n",
        "z = sp.simplify(z).subs([\n",
        "    (sp.simplify((p3x-p4x)*(p6x*(p6y-p1y)-p6y*(p6x-p1x))-(p6x-p1x)*(p3x*(p3y-p4y)-p3y*(p3x-p4x))), sp.Symbol(\"Az\")),\n",
        "    (sp.simplify((p3y-p4y)*(p6x*(p6y-p1y)-p6y*(p6x-p1x))-(p6y-p1y)*(p3x*(p3y-p4y)-p3y*(p3x-p4x))), sp.Symbol(\"Bz\")),\n",
        "    (sp.simplify((p3x-p4x)*(p6y-p1y)-(p3y-p4y)*(p6x-p1x)), sp.Symbol(\"Cz\")),\n",
        "])\n",
        "\n",
        "print(\"x軸ベクトル\")\n",
        "display(x)\n",
        "print(\"y軸ベクトル\")\n",
        "display(y)\n",
        "print(\"z軸ベクトル\")\n",
        "display(z)\n",
        "\n",
        "print(\"x軸ベクトルとy軸ベクトルの内積は0になるはずなので、その条件を元に焦点距離を計算\")\n",
        "sp.solve(x.dot(y), f)[2]\n",
        "x.dot(y)/sp.sqrt(x.dot(x)*y.dot(y))"
      ],
      "execution_count": 3,
      "outputs": [
        {
          "output_type": "stream",
          "name": "stdout",
          "text": [
            "x軸ベクトル\n"
          ]
        },
        {
          "output_type": "display_data",
          "data": {
            "text/latex": "$\\displaystyle \\left[\\begin{matrix}Ax f\\\\Bx f\\\\Cx f^{2}\\end{matrix}\\right]$",
            "text/plain": [
              "Matrix([\n",
              "[   Ax*f],\n",
              "[   Bx*f],\n",
              "[Cx*f**2]])"
            ]
          },
          "metadata": {}
        },
        {
          "output_type": "stream",
          "name": "stdout",
          "text": [
            "y軸ベクトル\n"
          ]
        },
        {
          "output_type": "display_data",
          "data": {
            "text/latex": "$\\displaystyle \\left[\\begin{matrix}Ay f\\\\By f\\\\Cy f^{2}\\end{matrix}\\right]$",
            "text/plain": [
              "Matrix([\n",
              "[   Ay*f],\n",
              "[   By*f],\n",
              "[Cy*f**2]])"
            ]
          },
          "metadata": {}
        },
        {
          "output_type": "stream",
          "name": "stdout",
          "text": [
            "z軸ベクトル\n"
          ]
        },
        {
          "output_type": "display_data",
          "data": {
            "text/latex": "$\\displaystyle \\left[\\begin{matrix}Az f\\\\Bz f\\\\Cz f^{2}\\end{matrix}\\right]$",
            "text/plain": [
              "Matrix([\n",
              "[   Az*f],\n",
              "[   Bz*f],\n",
              "[Cz*f**2]])"
            ]
          },
          "metadata": {}
        },
        {
          "output_type": "stream",
          "name": "stdout",
          "text": [
            "x軸ベクトルとy軸ベクトルの内積は0になるはずなので、その条件を元に焦点距離を計算\n"
          ]
        },
        {
          "output_type": "execute_result",
          "data": {
            "text/latex": "$\\displaystyle \\frac{Ax Ay f^{2} + Bx By f^{2} + Cx Cy f^{4}}{\\sqrt{\\left(Ax^{2} f^{2} + Bx^{2} f^{2} + Cx^{2} f^{4}\\right) \\left(Ay^{2} f^{2} + By^{2} f^{2} + Cy^{2} f^{4}\\right)}}$",
            "text/plain": [
              "(Ax*Ay*f**2 + Bx*By*f**2 + Cx*Cy*f**4)/sqrt((Ax**2*f**2 + Bx**2*f**2 + Cx**2*f**4)*(Ay**2*f**2 + By**2*f**2 + Cy**2*f**4))"
            ]
          },
          "metadata": {},
          "execution_count": 3
        }
      ]
    }
  ]
}
